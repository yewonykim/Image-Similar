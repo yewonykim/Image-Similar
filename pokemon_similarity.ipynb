{
 "cells": [
  {
   "cell_type": "code",
   "execution_count": null,
   "metadata": {},
   "outputs": [],
   "source": [
    "# Import the libraries\n",
    "%matplotlib inline\n",
    "\n",
    "import pandas as pd\n",
    "import numpy as np\n",
    "from tensorflow.keras.preprocessing import image\n",
    "from tensorflow.keras.applications.vgg16 import VGG16, preprocess_input\n",
    "from tensorflow.keras.models import Model\n",
    "from pathlib import Path\n",
    "from PIL import Image\n",
    "import os\n",
    "class FeatureExtractor:\n",
    "    def __init__(self):\n",
    "        # Use VGG-16 as the architecture and ImageNet for the weight\n",
    "        base_model = VGG16(weights='imagenet')\n",
    "        # Customize the model to return features from fully-connected layer\n",
    "        self.model = Model(inputs=base_model.input, outputs=base_model.get_layer('fc1').output)\n",
    "    def extract(self, img):\n",
    "        # Resize the image\n",
    "        img = img.resize((224, 224))\n",
    "        # Convert the image color space\n",
    "        img = img.convert('RGB')\n",
    "        # Reformat the image\n",
    "        x = image.img_to_array(img)\n",
    "        x = np.expand_dims(x, axis=0)\n",
    "        x = preprocess_input(x)\n",
    "        # Extract Features\n",
    "        feature = self.model.predict(x)[0]\n",
    "        return feature / np.linalg.norm(feature)"
   ]
  },
  {
   "cell_type": "code",
   "execution_count": null,
   "metadata": {},
   "outputs": [],
   "source": [
    "fe = FeatureExtractor()"
   ]
  },
  {
   "cell_type": "code",
   "execution_count": null,
   "metadata": {},
   "outputs": [],
   "source": [
    "features = []\n",
    "img_paths = []\n",
    "\n",
    "# 이미지가 있는 폴더 경로\n",
    "directory = \"C:/Users/user/Documents/Deep_learning/pokemon/images/images\"\n",
    "# 폴더 내 모든 파일 이름을 가져옵니다.\n",
    "img_files = [f for f in os.listdir(directory) if f.endswith('.png')]\n",
    "for img_name in img_files:\n",
    "    try:\n",
    "        image_path = os.path.join(directory, img_name)\n",
    "        img_paths.append(image_path)\n",
    "        # Extract Features\n",
    "        feature = fe.extract(img=Image.open(image_path))\n",
    "        features.append(feature)\n",
    "        # Save the Numpy array (.npy) on designated path\n",
    "        feature_path = \"C:/Users/user/Documents/Deep_learning/feature/\" + os.path.splitext(img_name)[0] + \".npy\"\n",
    "        np.save(feature_path, feature)\n",
    "    except Exception as e:\n",
    "        print('예외가 발생했습니다.', e)"
   ]
  },
  {
   "cell_type": "code",
   "execution_count": null,
   "metadata": {},
   "outputs": [],
   "source": [
    "# Import the libraries\n",
    "import matplotlib.pyplot as plt\n",
    "import numpy as np\n",
    "# Insert the image query\n",
    "img = Image.open(\"C:/Users/user/Documents/Deep_learning/pokemon/images/images/claydol.png\")\n",
    "# Extract its features\n",
    "query = fe.extract(img)\n",
    "# Calculate the similarity (distance) between images\n",
    "dists = np.linalg.norm(features - query, axis=1)\n",
    "# Extract 30 images that have lowest distance\n",
    "ids = np.argsort(dists)[:30]\n",
    "scores = [(dists[id], img_paths[id]) for id in ids]\n",
    "# Visualize the result\n",
    "axes=[]\n",
    "fig=plt.figure(figsize=(8,8))\n",
    "for a in range(5*6):\n",
    "    score = scores[a]\n",
    "    axes.append(fig.add_subplot(5, 6, a+1))\n",
    "    subplot_title=str(score[0])\n",
    "    axes[-1].set_title(subplot_title)  \n",
    "    plt.axis('off')\n",
    "    plt.imshow(Image.open(score[1]))\n",
    "fig.tight_layout()\n",
    "plt.show()"
   ]
  }
 ],
 "metadata": {
  "language_info": {
   "name": "python"
  }
 },
 "nbformat": 4,
 "nbformat_minor": 2
}
